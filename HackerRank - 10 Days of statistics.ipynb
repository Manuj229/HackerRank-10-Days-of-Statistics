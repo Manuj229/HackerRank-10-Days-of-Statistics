{
 "cells": [
  {
   "cell_type": "markdown",
   "metadata": {},
   "source": [
    "# HackerRank - 10 Days of Statistics"
   ]
  },
  {
   "cell_type": "markdown",
   "metadata": {},
   "source": [
    "# Binomial Distribution 1"
   ]
  },
  {
   "cell_type": "code",
   "execution_count": null,
   "metadata": {},
   "outputs": [],
   "source": [
    "def factorial(num):\n",
    "    factorial = 1\n",
    "    if (num == 0):\n",
    "        return 1\n",
    "    else:\n",
    "        for i in range(1,num + 1):\n",
    "            factorial = factorial*i\n",
    "    return factorial\n",
    "\n",
    "def nchoosek(n, k):\n",
    "    return (factorial(n)/(factorial(k)* factorial(n-k)))\n",
    "\n",
    "p_req = 0\n",
    "for k in range(3,7):\n",
    "    p_req = p_req + (nchoosek(6,k) * (pow(p_s,k)) * pow(p_f,6-k))\n",
    "    \n",
    "print(round(p_req,3))"
   ]
  },
  {
   "cell_type": "markdown",
   "metadata": {},
   "source": [
    "# Binomial Distribution 2"
   ]
  },
  {
   "cell_type": "code",
   "execution_count": null,
   "metadata": {},
   "outputs": [],
   "source": [
    "def factorial(num):\n",
    "    factorial = 1\n",
    "    if (num == 0):\n",
    "        return 1\n",
    "    else:\n",
    "        for i in range(1,num + 1):\n",
    "            factorial = factorial*i\n",
    "    return factorial\n",
    "\n",
    "def nchoosek(n, k):\n",
    "    return (factorial(n)/(factorial(k)* factorial(n-k)))\n",
    "\n",
    "a,n = map(int, input().split())\n",
    "\n",
    "p_f = a/100\n",
    "p_s = 1-p_f\n",
    "\n",
    "p_req1 = 0\n",
    "\n",
    "for k in range(0,3):\n",
    "    p_req1 = p_req1 + nchoosek(n,k)*pow(p_f, k) *pow(p_s, n-k)\n",
    "    \n",
    "\n",
    "p_req2 = 0\n",
    "\n",
    "for k in range(2,n+1):\n",
    "    p_req2 = p_req2 +  nchoosek(n,k)*pow(p_f, k) *pow(p_s, n-k)\n",
    "    \n",
    "    \n",
    "print(round(p_req1,3))\n",
    "print(round(p_req2,3))"
   ]
  },
  {
   "cell_type": "markdown",
   "metadata": {},
   "source": [
    "# Poissons Distribution 1"
   ]
  },
  {
   "cell_type": "code",
   "execution_count": null,
   "metadata": {},
   "outputs": [],
   "source": [
    "import math\n",
    "l = float(input())\n",
    "k = int(input())\n",
    "\n",
    "preq = (pow(l,k) * math.exp(-l)) / math.factorial(k)\n",
    "\n",
    "print(round(preq,3))"
   ]
  },
  {
   "cell_type": "markdown",
   "metadata": {},
   "source": [
    "# Poissons Distribution 2"
   ]
  },
  {
   "cell_type": "code",
   "execution_count": null,
   "metadata": {},
   "outputs": [],
   "source": [
    "import math\n",
    "Ma,Mb = map(float, input().split())\n",
    "Pa = 160 + 40 * (Ma + Ma**2)\n",
    "Pb = 128 + 40 * (Mb + Mb**2)\n",
    "\n",
    "print(round(Pa,3))\n",
    "print(round(Pb,3))"
   ]
  },
  {
   "cell_type": "markdown",
   "metadata": {},
   "source": [
    "# Standard Deviation"
   ]
  },
  {
   "cell_type": "code",
   "execution_count": null,
   "metadata": {},
   "outputs": [],
   "source": [
    "import math\n",
    "\n",
    "\n",
    "n = int(input())\n",
    "\n",
    "arr = [ int(X) for X in input().strip().split()]\n",
    "    \n",
    "mean = sum(arr)/n\n",
    "for i in range(n):\n",
    "    arr[i] = (abs(arr[i] - mean))**2\n",
    "\n",
    "sd = math.sqrt(sum(arr)/n)\n",
    "\n",
    "print(round(sd, 1))\n"
   ]
  },
  {
   "cell_type": "markdown",
   "metadata": {},
   "source": [
    "# Weighted Mean"
   ]
  },
  {
   "cell_type": "code",
   "execution_count": null,
   "metadata": {},
   "outputs": [],
   "source": [
    "n = int(input())\n",
    "\n",
    "X = list(map(int, input().split()))\n",
    "Y = list(map(int, input().split()))\n",
    "arr = []\n",
    "for i in range(n):\n",
    "    arr.append(X[i]*Y[i])\n",
    "    \n",
    "w_m = sum(arr)/sum(Y)\n",
    "\n",
    "print(round(w_m,1))"
   ]
  },
  {
   "cell_type": "markdown",
   "metadata": {},
   "source": [
    "# Normal Distribution 1"
   ]
  },
  {
   "cell_type": "code",
   "execution_count": null,
   "metadata": {},
   "outputs": [],
   "source": [
    "import math\n",
    "mean, sd = map(int, input().split())\n",
    "x = float(input())\n",
    "a,b = map(int, input().split())\n",
    "CDF = 0.5*(1 + math.erf((x-mean)/(sd * (2**0.5))))\n",
    "print(round(CDF,3))\n",
    "CDF_a = 0.5*(1 + math.erf((a-mean)/(sd * math.sqrt(2))))\n",
    "CDF_b = 0.5*(1 + math.erf((b-mean)/(sd * math.sqrt(2))))\n",
    "print(round(CDF_b-CDF_a, 3))"
   ]
  },
  {
   "cell_type": "markdown",
   "metadata": {},
   "source": [
    "# Normal Distribution 2"
   ]
  },
  {
   "cell_type": "code",
   "execution_count": null,
   "metadata": {},
   "outputs": [],
   "source": [
    "import math\n",
    "mean, sd = map(int, input().split())\n",
    "\n",
    "CDF = lambda x: 0.5*(1 + math.erf((x-mean)/(sd * (2**0.5))))\n",
    "x = int(input())\n",
    "print(round((1 - CDF(x))*100, 2))\n",
    "print(round((1 - CDF(60))*100,2))\n",
    "print(round((CDF(60))*100,2))"
   ]
  },
  {
   "cell_type": "markdown",
   "metadata": {},
   "source": [
    "# Central Limit Theorem 1"
   ]
  },
  {
   "cell_type": "code",
   "execution_count": null,
   "metadata": {},
   "outputs": [],
   "source": [
    "import math\n",
    "Max_weight = int(input())\n",
    "sample_size = int(input())\n",
    "overall_mean = int(input())\n",
    "sd = int(input())\n",
    "\n",
    "sample_avg = overall_mean * sample_size\n",
    "sample_sd = math.sqrt(sample_size) * sd\n",
    "\n",
    "CDF = lambda x: 0.5*(1 + math.erf((x-sample_avg)/(sample_sd * (2**0.5))))\n",
    "\n",
    "print(round(CDF(Max_weight) , 4))\n"
   ]
  },
  {
   "cell_type": "markdown",
   "metadata": {},
   "source": [
    "# Central Limit Theorem 2"
   ]
  },
  {
   "cell_type": "code",
   "execution_count": null,
   "metadata": {},
   "outputs": [],
   "source": [
    "import math\n",
    "x = int(input())\n",
    "sample_size = int(input())\n",
    "overall_mean = float(input())\n",
    "sd = float(input())\n",
    "\n",
    "sample_avg = overall_mean * sample_size\n",
    "sample_sd = math.sqrt(sample_size) * sd\n",
    "\n",
    "CDF = lambda x: 0.5*(1 + math.erf((x-sample_avg)/(sample_sd * (2**0.5))))\n",
    "\n",
    "print(round(CDF(x) , 4))\n"
   ]
  },
  {
   "cell_type": "markdown",
   "metadata": {},
   "source": [
    "# Central Limit Theorem 3"
   ]
  },
  {
   "cell_type": "code",
   "execution_count": null,
   "metadata": {},
   "outputs": [],
   "source": [
    "import math\n",
    "sample_size = int(input())\n",
    "overall_mean = int(input())\n",
    "sd = int(input())\n",
    "x = float(input())\n",
    "z = float(input())\n",
    "\n",
    "sample_sd = sd/math.sqrt(sample_size)\n",
    "\n",
    "print(round((overall_mean - (z * sample_sd)), 2))\n",
    "print(round((overall_mean + (z * sample_sd)), 2))\n",
    "\n"
   ]
  },
  {
   "cell_type": "markdown",
   "metadata": {},
   "source": [
    "# Quartiles"
   ]
  },
  {
   "cell_type": "code",
   "execution_count": null,
   "metadata": {},
   "outputs": [],
   "source": [
    "from statistics import median as m\n",
    "n = int(input())\n",
    "arr = list(map(int, input().split()))\n",
    "arr.sort()\n",
    "t = int(n/2)\n",
    "if len(arr)%2==0:\n",
    "    L=arr[:t]\n",
    "    U=arr[t:]\n",
    "else:\n",
    "    L=arr[:t]\n",
    "    U=arr[t+1:]\n",
    "print(int(m(L)))\n",
    "print(int(m(arr)))\n",
    "print(int(m(U)))"
   ]
  },
  {
   "cell_type": "markdown",
   "metadata": {},
   "source": [
    "# Interquartile Ranges"
   ]
  },
  {
   "cell_type": "code",
   "execution_count": null,
   "metadata": {},
   "outputs": [],
   "source": [
    "n = int(input())\n",
    "arr = [int(x) for x in input().split()]\n",
    "freq = [int(x) for x in input().split()]\n",
    "\n",
    "X = []\n",
    "for i in range(n):\n",
    "    j = freq[i]\n",
    "    while(j>0):\n",
    "        X.append(arr[i])\n",
    "        j -= 1\n",
    "        \n",
    "X.sort()\n",
    "t = int(len(X)/2)\n",
    "if len(arr)%2==0:\n",
    "    L=X[:t]\n",
    "    U=X[t:]\n",
    "else:\n",
    "    L=X[:t]\n",
    "    U=X[t+1:]\n",
    "print(float(m(U) - m(L)))"
   ]
  },
  {
   "cell_type": "code",
   "execution_count": null,
   "metadata": {},
   "outputs": [],
   "source": []
  },
  {
   "cell_type": "code",
   "execution_count": null,
   "metadata": {},
   "outputs": [],
   "source": []
  }
 ],
 "metadata": {
  "kernelspec": {
   "display_name": "Python 3",
   "language": "python",
   "name": "python3"
  },
  "language_info": {
   "codemirror_mode": {
    "name": "ipython",
    "version": 3
   },
   "file_extension": ".py",
   "mimetype": "text/x-python",
   "name": "python",
   "nbconvert_exporter": "python",
   "pygments_lexer": "ipython3",
   "version": "3.7.7"
  }
 },
 "nbformat": 4,
 "nbformat_minor": 4
}
